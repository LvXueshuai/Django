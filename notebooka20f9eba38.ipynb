{
 "cells": [
  {
   "cell_type": "code",
   "execution_count": 1,
   "id": "a29d2b2a",
   "metadata": {
    "_cell_guid": "b1076dfc-b9ad-4769-8c92-a6c4dae69d19",
    "_uuid": "8f2839f25d086af736a60e9eeb907d3b93b6e0e5",
    "execution": {
     "iopub.execute_input": "2022-05-17T08:07:44.498722Z",
     "iopub.status.busy": "2022-05-17T08:07:44.498159Z",
     "iopub.status.idle": "2022-05-17T08:07:44.514274Z",
     "shell.execute_reply": "2022-05-17T08:07:44.513213Z"
    },
    "papermill": {
     "duration": 0.025525,
     "end_time": "2022-05-17T08:07:44.517180",
     "exception": false,
     "start_time": "2022-05-17T08:07:44.491655",
     "status": "completed"
    },
    "tags": []
   },
   "outputs": [],
   "source": [
    "# This Python 3 environment comes with many helpful analytics libraries installed\n",
    "# It is defined by the kaggle/python Docker image: https://github.com/kaggle/docker-python\n",
    "# For example, here's several helpful packages to load\n",
    "\n",
    "import numpy as np # linear algebra\n",
    "import pandas as pd # data processing, CSV file I/O (e.g. pd.read_csv)\n",
    "\n",
    "# Input data files are available in the read-only \"../input/\" directory\n",
    "# For example, running this (by clicking run or pressing Shift+Enter) will list all files under the input directory\n",
    "\n",
    "import os\n",
    "for dirname, _, filenames in os.walk('/kaggle/input'):\n",
    "    for filename in filenames:\n",
    "        print(os.path.join(dirname, filename))\n",
    "\n",
    "# You can write up to 20GB to the current directory (/kaggle/working/) that gets preserved as output when you create a version using \"Save & Run All\" \n",
    "# You can also write temporary files to /kaggle/temp/, but they won't be saved outside of the current session"
   ]
  },
  {
   "cell_type": "code",
   "execution_count": 2,
   "id": "e978821e",
   "metadata": {
    "execution": {
     "iopub.execute_input": "2022-05-17T08:07:44.528021Z",
     "iopub.status.busy": "2022-05-17T08:07:44.527347Z",
     "iopub.status.idle": "2022-05-17T08:07:46.178305Z",
     "shell.execute_reply": "2022-05-17T08:07:46.177222Z"
    },
    "papermill": {
     "duration": 1.658651,
     "end_time": "2022-05-17T08:07:46.180794",
     "exception": false,
     "start_time": "2022-05-17T08:07:44.522143",
     "status": "completed"
    },
    "tags": []
   },
   "outputs": [
    {
     "name": "stdout",
     "output_type": "stream",
     "text": [
      "Cloning into 'torchsimclr'...\r\n",
      "remote: Enumerating objects: 51, done.\u001b[K\r\n",
      "remote: Counting objects: 100% (51/51), done.\u001b[K\r\n",
      "remote: Compressing objects: 100% (48/48), done.\u001b[K\r\n",
      "remote: Total 51 (delta 3), reused 0 (delta 0), pack-reused 0\u001b[K\r\n",
      "Unpacking objects: 100% (51/51), 41.73 KiB | 700.00 KiB/s, done.\r\n"
     ]
    }
   ],
   "source": [
    "!git clone  https://github.com/LvXueshuai/torchsimclr.git"
   ]
  }
 ],
 "metadata": {
  "kernelspec": {
   "display_name": "Python 3",
   "language": "python",
   "name": "python3"
  },
  "language_info": {
   "codemirror_mode": {
    "name": "ipython",
    "version": 3
   },
   "file_extension": ".py",
   "mimetype": "text/x-python",
   "name": "python",
   "nbconvert_exporter": "python",
   "pygments_lexer": "ipython3",
   "version": "3.7.12"
  },
  "papermill": {
   "default_parameters": {},
   "duration": 11.765483,
   "end_time": "2022-05-17T08:07:46.806394",
   "environment_variables": {},
   "exception": null,
   "input_path": "__notebook__.ipynb",
   "output_path": "__notebook__.ipynb",
   "parameters": {},
   "start_time": "2022-05-17T08:07:35.040911",
   "version": "2.3.4"
  }
 },
 "nbformat": 4,
 "nbformat_minor": 5
}
